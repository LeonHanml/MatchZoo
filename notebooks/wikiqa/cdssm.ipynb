{
 "cells": [
  {
   "cell_type": "markdown",
   "metadata": {},
   "source": [
    "### Build a Convolutional Deep Semantic Structured Model (CDSSM)\n",
    "\n",
    "<img src=\"https://github.com/NTMC-Community/MatchZoo/blob/2.0/artworks/matchzoo-logo.png?raw=True\" alt=\"logo\" style=\"width:600px;float: center\"/>\n",
    "\n",
    "This is a tutorial on training *Convolutional-DSSM* [Shen et al. 2014](https://www.microsoft.com/en-us/research/publication/a-latent-semantic-model-with-convolutional-pooling-structure-for-information-retrieval/) model with [MatchZoo](https://github.com/NTMC-Community/MatchZoo). We use [WikiQA](https://aclweb.org/anthology/D15-1237) as the example benchmark data set to show the usage.\n",
    "\n",
    "Beyond *DSSM* [Huang et al. 2013](https://www.microsoft.com/en-us/research/wp-content/uploads/2016/02/cikm2013_DSSM_fullversion.pdf), *CDSSM* uses the convolutional struction to extract both local contextual features at the word-n-gram level and global contextual features at the sentence-level.\n",
    "\n",
    "*To walk through this notebook, you need approx 40 minutes.*\n",
    "\n",
    "-------"
   ]
  },
  {
   "cell_type": "markdown",
   "metadata": {},
   "source": [
    "**TL;DR**\n",
    "\n",
    "The following code block illustrates the main workflow of how to train a CDSSM model. \n",
    "\n",
    "```python\n",
    "from matchzoo import preprocessor\n",
    "from matchzoo import generators\n",
    "from matchzoo import models\n",
    "\n",
    "train, test = ... # prepare your training data and test data.\n",
    "\n",
    "# prepare data preprocessor\n",
    "# data preprocessor output the format required by CDSSM\n",
    "cdssm_preprocessor = preprocessor.CDSSMPreprocessor()\n",
    "processed_tr = cdssm_preprocessor.fit_transform(train, stage='train')\n",
    "processed_te = cdssm_preprocessor.fit_transform(test, stage='predict')\n",
    "# required data information stored in `context`\n",
    "input_shapes = processed_tr.context['input_shapes']\n",
    "\n",
    "# data generator controls data batch format\n",
    "generator_tr = generators.PointGenerator(processed_tr)\n",
    "generator_te = generators.PointGenerator(processed_te)\n",
    "\n",
    "cdssm_model = models.CDSSMModel()\n",
    "# set model parameters\n",
    "cdssm_model.params['input_shapes'] = input_shapes\n",
    "# fill missing model parameters by default value\n",
    "cdssm_model.guess_and_fill_missing_params()\n",
    "cdssm_model.build()\n",
    "cdssm_model.compile()\n",
    "# train\n",
    "cdssm_model.fit_generator(generator_tr)\n",
    "# predict the first batch in test set\n",
    "X_te, y_te = generator_te[0]\n",
    "predictions = cdssm_model.predict([X_te.text_left, X_te.text_right])\n",
    "```\n",
    "\n",
    "-----"
   ]
  },
  {
   "cell_type": "markdown",
   "metadata": {},
   "source": [
    "MatchZoo expect a list of *Quintuple* as training data:\n",
    "\n",
    "```python\n",
    "train = [('qid0', 'did0', 'query 0', 'document 0', 'label 0'),\n",
    "         ('qid0', 'did1', 'query 0', 'document 1', 'label 1'),\n",
    "          ...,\n",
    "         ('qid1', 'did2', 'query 1', 'document 2', 'label 3')]\n",
    "```\n",
    "\n",
    "The corresponded columns are `(text_left_id, text_right_id, text_left, text_right, label)`. For Information Retrieval task, *text_left* is referred as *query*, and *text_right* is document.\n",
    "\n",
    "For the test case, MatchZoo expect a list of *Quadruple* (we do not need labels) as input:\n",
    "\n",
    "```python\n",
    "test = [('qid9', 'did5', 'query 9', 'document 5'),\n",
    "         ...,\n",
    "        ('qid2', 'did7', 'query 2', 'document 7')]\n",
    "```"
   ]
  },
  {
   "cell_type": "markdown",
   "metadata": {},
   "source": [
    "### Table of Content\n",
    "\n",
    "+ Prepare WikiQA dataset\n",
    "+ Preprocessing\n",
    "+ Data Generator\n",
    "+ Model Training\n",
    "    - Initialize\n",
    "    - Hyper-Parameters\n",
    "    - Model training\n",
    "    - Make Prediction\n",
    "    - Model Persistence\n",
    "- Reference"
   ]
  },
  {
   "cell_type": "markdown",
   "metadata": {},
   "source": [
    "### Prepare WikiQA dataset\n",
    "\n",
    "We take WikiQA as the example benchmark dataset to show the usage of MatchZoo.\n",
    "\n",
    "Firstly you need to downlowd the data and uncompress the data, we provided the following script to help you download the dataset into `MatchZoo/data/WikiQA` folder, and convert the format to MatchZoo required. You can change the dataset path according to your needs.\n",
    "\n",
    "The WikiQA dataset has format as:\n",
    "\n",
    "`QuestionID\\tQuestion\\tDocumentID\\tDocumentTitle\\tSentenceID\\tSentence\\tLabel`"
   ]
  },
  {
   "cell_type": "code",
   "execution_count": 2,
   "metadata": {
    "collapsed": true
   },
   "outputs": [],
   "source": [
    "import os\n",
    "\n",
    "data_folder = '../../data/WikiQA/'\n",
    "\n",
    "if not os.path.exists(data_folder):\n",
    "    cmd = 'mkdir -p {}\\n'.format(data_folder) \\\n",
    "          +'cd {}\\n'.format(data_folder) \\\n",
    "          +'wget https://download.microsoft.com/download/E/5/F/E5FCFCEE-7005-4814-853D-DAA7C66507E0/WikiQACorpus.zip\\n' \\\n",
    "          +'unzip WikiQACorpus.zip\\n'\n",
    "    print ('download WikiQA data... \\n', cmd)\n",
    "    os.system(cmd)\n",
    "    \n",
    "# convert dataset format to MatchZoo required format\n",
    "def read_data(input, stage):\n",
    "    output_list = []\n",
    "    index = 0\n",
    "    with open(input) as fin:\n",
    "        for l in fin:\n",
    "            tok = l.split('\\t')\n",
    "            # skip dataset file first line\n",
    "            if index != 0:\n",
    "                if stage == 'test':\n",
    "                    output_list.append((tok[0], tok[4], tok[1], tok[5])) # qid, did, q, d\n",
    "                else:\n",
    "                    output_list.append((tok[0], tok[4], tok[1], tok[5], tok[6])) # qid, did, q, d, label \n",
    "            index += 1\n",
    "    return output_list\n",
    "\n",
    "train = read_data(data_folder + 'WikiQACorpus/WikiQA-train.tsv', stage='train')\n",
    "dev   = read_data(data_folder + 'WikiQACorpus/WikiQA-dev.tsv', stage='dev')\n",
    "test  = read_data(data_folder + 'WikiQACorpus/WikiQA-test.tsv', stage='test')"
   ]
  },
  {
   "cell_type": "markdown",
   "metadata": {},
   "source": [
    "### Preprocessing\n",
    "\n",
    "You can pre-process your data to fit CDSSM input in just three lines."
   ]
  },
  {
   "cell_type": "code",
   "execution_count": 6,
   "metadata": {
    "collapsed": false
   },
   "outputs": [
    {
     "ename": "ImportError",
     "evalue": "No module named matchzoo",
     "output_type": "error",
     "traceback": [
      "\u001b[0;31m---------------------------------------------------------------------------\u001b[0m",
      "\u001b[0;31mImportError\u001b[0m                               Traceback (most recent call last)",
      "\u001b[0;32m<ipython-input-6-ef8ea50660ca>\u001b[0m in \u001b[0;36m<module>\u001b[0;34m()\u001b[0m\n\u001b[1;32m      1\u001b[0m \u001b[0;31m# Initialize a cdssm preprocessor.\u001b[0m\u001b[0;34m\u001b[0m\u001b[0;34m\u001b[0m\u001b[0m\n\u001b[0;32m----> 2\u001b[0;31m \u001b[0;32mfrom\u001b[0m \u001b[0mmatchzoo\u001b[0m \u001b[0;32mimport\u001b[0m \u001b[0mpreprocessor\u001b[0m\u001b[0;34m\u001b[0m\u001b[0m\n\u001b[0m\u001b[1;32m      3\u001b[0m \u001b[0mcdssm_preprocessor\u001b[0m \u001b[0;34m=\u001b[0m \u001b[0mpreprocessor\u001b[0m\u001b[0;34m.\u001b[0m\u001b[0mCDSSMPreprocessor\u001b[0m\u001b[0;34m(\u001b[0m\u001b[0;34m)\u001b[0m\u001b[0;34m\u001b[0m\u001b[0m\n\u001b[1;32m      4\u001b[0m \u001b[0mprocessed_tr\u001b[0m \u001b[0;34m=\u001b[0m \u001b[0mcdssm_preprocessor\u001b[0m\u001b[0;34m.\u001b[0m\u001b[0mfit_transform\u001b[0m\u001b[0;34m(\u001b[0m\u001b[0mtrain\u001b[0m\u001b[0;34m,\u001b[0m \u001b[0mstage\u001b[0m\u001b[0;34m=\u001b[0m\u001b[0;34m'train'\u001b[0m\u001b[0;34m)\u001b[0m\u001b[0;34m\u001b[0m\u001b[0m\n\u001b[1;32m      5\u001b[0m \u001b[0mprocessed_te\u001b[0m \u001b[0;34m=\u001b[0m \u001b[0mcdssm_preprocessor\u001b[0m\u001b[0;34m.\u001b[0m\u001b[0mfit_transform\u001b[0m\u001b[0;34m(\u001b[0m\u001b[0mtest\u001b[0m\u001b[0;34m,\u001b[0m \u001b[0mstage\u001b[0m\u001b[0;34m=\u001b[0m\u001b[0;34m'predict'\u001b[0m\u001b[0;34m)\u001b[0m\u001b[0;34m\u001b[0m\u001b[0m\n",
      "\u001b[0;31mImportError\u001b[0m: No module named matchzoo"
     ]
    }
   ],
   "source": [
    "# Initialize a cdssm preprocessor.\n",
    "from matchzoo import preprocessor\n",
    "cdssm_preprocessor = preprocessor.CDSSMPreprocessor()\n",
    "processed_tr = cdssm_preprocessor.fit_transform(train, stage='train')\n",
    "processed_te = cdssm_preprocessor.fit_transform(test, stage='predict')"
   ]
  },
  {
   "cell_type": "markdown",
   "metadata": {},
   "source": [
    "**What is `processed_tr`?**\n",
    "\n",
    "`processed_tr` is a **MatchZoo DataPack** data structure (see `matchzoo/datapack.py`). It contains \n",
    "1. A *2-columns* `pandas DataFrame` called `left` to host all the pre-processed records including index and processed text to store `text_left` and `id_left`.\n",
    "2. A *2-columns* `pandas DataFrame` called `right` to host all the pre-processed records including index and processed text to store `text_right` and `id_right`.\n",
    "3. A *2-columns* `pandas DataFrame` called `relation` to host all the pre-processed records including index and index mapping `id_left` and `id_right`.\n",
    "4. A `context` property (dictionary) consists of all the parameters fitted during pre-processing. \n",
    "\n",
    "The `fit_transform` method is a linear combination of two methods:\n",
    "\n",
    "1. Fit parameters using the `fit` function, this only happens when `stage='train'`.\n",
    "2. Transform data into expected format.\n",
    "\n",
    "So the previous three lines code can also be written as:\n",
    "\n",
    "```python\n",
    "# Initialize a cdssm preprocessor.\n",
    "from matchzoo import preprocessor\n",
    "cdssm_preprocessor = preprocessor.CDSSMPreprocessor()\n",
    "processed_tr = cdssm_preprocessor.fit_transform(train, stage='train')\n",
    "# We do not need to fit any parameters during the testing stage.\n",
    "# So we can call transform directly.\n",
    "processed_te = cdssm_preprocessor.transform(test, stage='predict')\n",
    "```"
   ]
  },
  {
   "cell_type": "markdown",
   "metadata": {},
   "source": [
    "As described, the fitted parameters were stored in `context` property, to access the context, just call:\n",
    "\n",
    "```python\n",
    "print(processed_tr.context)\n",
    "```\n",
    "Another example:"
   ]
  },
  {
   "cell_type": "code",
   "execution_count": 3,
   "metadata": {
    "collapsed": false
   },
   "outputs": [
    {
     "name": "stdout",
     "output_type": "stream",
     "text": [
      "vocab size:  9643\n"
     ]
    }
   ],
   "source": [
    "print('vocab size: ', len(processed_tr.context['term_index']))"
   ]
  },
  {
   "cell_type": "markdown",
   "metadata": {},
   "source": [
    "**What has been stored in the `context?`** \n",
    "\n",
    "We stored `input_shapes` in the context property. Since CDSSM model's input shape is dynamic (it depends on user's training data to generate tri-letters), you **must** manually set models input shape, we'll discuss it in the model training section.\n",
    "\n",
    "**What is `cdssm_preprocessor` actually doing?**\n",
    "\n",
    "The `cdssm_preprocessor` is calling a sequence of `process_units`. Each `process_unit` is designed to perform one atom operation on input data. For instance, in `cdssm_preprocessor`, we called:\n",
    "\n",
    "1. TokenizeUnit: Perform tokenization on raw input data.\n",
    "2. LowercaseUnit: Transform all tokens into lower case.\n",
    "3. PuncRemovalUnit: Remove all the punctuations.\n",
    "4. StopRemovalUnit: Remove all the stopwords.\n",
    "5. NgramLetterUnit: Create n-gram-letters (by default we're creating tri-letters) as input data, for example: the token `test` we be transformed to `['#te', 'tes', 'est', 'st#']`.\n",
    "6. VocabularyUnit: Create vocabulary to get the dimensionality of `tri-letters`.\n",
    "7. WordHashingUnit: Create `WordHashing` layer as described in the paper.\n",
    "\n",
    "----\n",
    "\n",
    "### Data Generation\n",
    "\n",
    "For memory efficiency, we expect you to use **generator** to generate batches of data on the fly. For example, we can create a **PointGenerator** as follows:"
   ]
  },
  {
   "cell_type": "code",
   "execution_count": 4,
   "metadata": {
    "collapsed": true
   },
   "outputs": [],
   "source": [
    "from matchzoo import generators\n",
    "from matchzoo import tasks\n",
    "generator_tr = generators.PointGenerator(inputs=processed_tr, task=tasks.Ranking(), batch_size=64, stage='train')\n",
    "generator_te = generators.PointGenerator(inputs=processed_te, task=tasks.Ranking(), batch_size=64, stage='predict')"
   ]
  },
  {
   "cell_type": "markdown",
   "metadata": {},
   "source": [
    "To get the first batch of trainig data, just call `X_train, y_train = generator[0]`.\n",
    "\n",
    "**What is PointGenerator?**\n",
    "**PointGenerator** is this case, it is assumed that each query-document pair in the training data has a numerical or ordinal score. Then the problem can be approximated by a regression/Classification problem — given a single query-document pair, predict its score.\n",
    "\n",
    "A number of existing supervised machine learning algorithms can be readily used for this purpose. Ordinal regression and classification algorithms can also be used in pointwise approach when they are used to predict the score of a single query-document pair, and it takes a small, finite number of values.\n",
    "\n",
    "**What is PairGenerator?**\n",
    "In this case, the problem is approximated by a classification problem — learning a binary classifier that can tell which document is better in a given pair of documents.\n",
    "\n",
    "In MatchZoo, **PairGenerator** generate one positive & `num_neg` negative examples per pair. As an example, to train a CDSSM model (for document ranking), we use `num_neg=4`. \n",
    "\n",
    "**What is ListGenerator?**\n",
    "This generator try to directly optimize the value of evaluation measures, averaged over all queries in the training data. \n",
    "\n",
    "Chosse the appropriate generator based on your `task`.\n",
    "\n",
    "----\n",
    "\n",
    "### Train Your CDSSM Model\n",
    "\n",
    "To train a CDSSM model, we need to create an instance of CDSSMModel:"
   ]
  },
  {
   "cell_type": "code",
   "execution_count": 5,
   "metadata": {
    "collapsed": true
   },
   "outputs": [],
   "source": [
    "from matchzoo import models\n",
    "cdssm_model = models.CDSSMModel()"
   ]
  },
  {
   "cell_type": "markdown",
   "metadata": {},
   "source": [
    "Then, we need to set hyper-parameters to our CDSSM Model. In general, there are **two types of hyper-parameters**:\n",
    "\n",
    "**Required parameters**: For CDSSM, since the `input_shapes` depend on the dimensionality of fitted training data, you're required to set this parameter manually!"
   ]
  },
  {
   "cell_type": "code",
   "execution_count": 6,
   "metadata": {
    "collapsed": true
   },
   "outputs": [],
   "source": [
    "# The fitted parameters is stored in the `context` property of pre-processor instance during the training stage.\n",
    "from matchzoo import losses\n",
    "from matchzoo import tasks\n",
    "input_shapes = processed_tr.context['input_shapes']\n",
    "cdssm_model.params['input_shapes'] = input_shapes\n",
    "cdssm_model.params['task'] = tasks.Ranking()"
   ]
  },
  {
   "cell_type": "markdown",
   "metadata": {},
   "source": [
    "**Tunable parameters**: For CDSSM, you're allowed to tune these parameters:\n",
    "\n",
    "```python\n",
    "from matchzoo import tasks\n",
    "\n",
    "params = {'w_initializer': 'glorot_normal', # see keras weight_initializer.\n",
    "          'b_initializer': 'zeros', # see keras bias_initializer.\n",
    "          'dim_fan_out': 128, # Dimension of output layer.\n",
    "          'dim_hidden': 300, # Dimension of hidden layer.\n",
    "          'contextual_window': 3, # Convolution window size.\n",
    "          'strides': 1, # An integer or tuple/list of n integers, specifying the dimensions of the convolution window.\n",
    "          'padding': 'same', # One of 'valid' or 'same' (case-insensitive).\n",
    "          'activation_hidden': 'tanh', # Activation function of hidden layer, see keras activation.\n",
    "          'num_hidden_layers': 2, # Number of hidden layers.\n",
    "          'optimizer': 'sgd', # By default, we're using sgd, see keras optimizer.\n",
    "          'task': tasks.Classification, # Default Classification, you can use tasks.Ranking\n",
    "          'loss': 'categorical_crossentropy', # categorical_crossentropy, see keras loss.\n",
    "          'metric': 'acc', # Accuracy by default, see keras metric.\n",
    "         }\n",
    "```"
   ]
  },
  {
   "cell_type": "markdown",
   "metadata": {},
   "source": [
    "Same as **required parameters**, use `cdssm_model.params['parameter-name'] = parameter-value` to set the hyper parameters. If you want to keep everything by default values, just use"
   ]
  },
  {
   "cell_type": "code",
   "execution_count": 7,
   "metadata": {
    "collapsed": false
   },
   "outputs": [
    {
     "name": "stdout",
     "output_type": "stream",
     "text": [
      "cdssm parameters:  name                          CDSSMModel\n",
      "model_class                   <class 'matchzoo.models.cdssm_model.CDSSMModel'>\n",
      "input_shapes                  [(5, 28932), (5, 28932)]\n",
      "task                          <matchzoo.tasks.ranking.Ranking object at 0x7fd6c7fa1e80>\n",
      "metrics                       ['mae']\n",
      "loss                          mse\n",
      "optimizer                     adam\n",
      "w_initializer                 glorot_normal\n",
      "b_initializer                 zeros\n",
      "dim_fan_out                   128\n",
      "dim_hidden                    300\n",
      "contextual_window             3\n",
      "strides                       1\n",
      "padding                       same\n",
      "activation_hidden             tanh\n",
      "num_hidden_layers             1\n"
     ]
    }
   ],
   "source": [
    "cdssm_model.guess_and_fill_missing_params()\n",
    "print('cdssm parameters: ', cdssm_model.params)"
   ]
  },
  {
   "cell_type": "markdown",
   "metadata": {},
   "source": [
    "#### Model Training\n",
    "\n",
    "To train the model after all the parameters were settled, call:"
   ]
  },
  {
   "cell_type": "code",
   "execution_count": 9,
   "metadata": {
    "collapsed": false
   },
   "outputs": [
    {
     "name": "stdout",
     "output_type": "stream",
     "text": [
      "Epoch 1/5\n",
      "10/10 [==============================] - 257s 26s/step - loss: 0.2059 - mean_absolute_error: 0.3355\n",
      "Epoch 2/5\n",
      "10/10 [==============================] - 233s 23s/step - loss: 0.1085 - mean_absolute_error: 0.2233\n",
      "Epoch 3/5\n",
      "10/10 [==============================] - 237s 24s/step - loss: 0.1002 - mean_absolute_error: 0.2155\n",
      "Epoch 4/5\n",
      "10/10 [==============================] - 227s 23s/step - loss: 0.1235 - mean_absolute_error: 0.2306\n",
      "Epoch 5/5\n",
      "10/10 [==============================] - 233s 23s/step - loss: 0.0927 - mean_absolute_error: 0.2098\n"
     ]
    },
    {
     "data": {
      "text/plain": [
       "<keras.callbacks.History at 0x7fd6af7ceb00>"
      ]
     },
     "execution_count": 9,
     "metadata": {},
     "output_type": "execute_result"
    }
   ],
   "source": [
    "cdssm_model.build()\n",
    "cdssm_model.compile()\n",
    "# Fit the cdssm model on generator.\n",
    "cdssm_model.fit_generator(generator_tr, steps_per_epoch=10, epochs=5)"
   ]
  },
  {
   "cell_type": "code",
   "execution_count": 10,
   "metadata": {
    "collapsed": false
   },
   "outputs": [
    {
     "name": "stdout",
     "output_type": "stream",
     "text": [
      "Q1583/D1501-14 is predicted as [0.28110725]\n",
      "Q1569/D1487-3 is predicted as [0.2935608]\n",
      "Q3012/D2780-5 is predicted as [0.28088737]\n",
      "Q878/D849-16 is predicted as [0.05994327]\n",
      "Q388/D386-3 is predicted as [0.63909245]\n",
      "Q744/D722-1 is predicted as [0.49063012]\n",
      "Q599/D588-6 is predicted as [0.17586084]\n",
      "Q455/D448-11 is predicted as [-0.03900433]\n",
      "Q2803/D2604-2 is predicted as [-0.0858564]\n",
      "Q1157/D1112-1 is predicted as [-0.1775243]\n",
      "Q2144/D2021-2 is predicted as [-0.19360174]\n",
      "Q817/D791-0 is predicted as [-0.40400195]\n",
      "Q411/D408-10 is predicted as [0.09464573]\n",
      "Q2185/D2059-1 is predicted as [-0.19726811]\n",
      "Q1233/D1181-8 is predicted as [0.04308429]\n",
      "Q800/D774-6 is predicted as [-0.11885771]\n",
      "Q2723/D2538-3 is predicted as [-0.3144391]\n",
      "Q2836/D2633-2 is predicted as [0.10870139]\n",
      "Q2841/D2638-0 is predicted as [0.22389692]\n",
      "Q2382/D230-14 is predicted as [0.68754077]\n",
      "Q2618/D858-5 is predicted as [-0.28881052]\n",
      "Q2766/D1764-20 is predicted as [-0.00923205]\n",
      "Q2385/D2239-10 is predicted as [0.08014339]\n",
      "Q1012/D976-15 is predicted as [-0.40174863]\n",
      "Q309/D308-3 is predicted as [0.0521443]\n",
      "Q2945/D2722-4 is predicted as [0.28304186]\n",
      "Q2734/D2547-0 is predicted as [0.29427183]\n",
      "Q1297/D1241-3 is predicted as [0.01294514]\n",
      "Q3006/D2775-0 is predicted as [0.17408447]\n",
      "Q2621/D2446-7 is predicted as [-0.05681632]\n",
      "Q771/D135-3 is predicted as [0.00244443]\n",
      "Q1275/D1219-19 is predicted as [0.18019459]\n",
      "Q1146/D1103-7 is predicted as [0.04246595]\n",
      "Q715/D696-7 is predicted as [0.04872929]\n",
      "Q69/D69-3 is predicted as [-0.05191718]\n",
      "Q3015/D2783-15 is predicted as [-0.03730257]\n",
      "Q1665/D1581-2 is predicted as [-0.00443909]\n",
      "Q2806/D84-0 is predicted as [-0.28541574]\n",
      "Q1899/D1795-10 is predicted as [-0.2569314]\n",
      "Q1070/D1032-3 is predicted as [-0.22763059]\n",
      "Q2326/D2189-4 is predicted as [-0.2938295]\n",
      "Q68/D68-8 is predicted as [-0.07547133]\n",
      "Q2986/D2759-4 is predicted as [-0.08883759]\n",
      "Q1409/D1342-9 is predicted as [-0.05454103]\n",
      "Q1619/D660-3 is predicted as [-0.177071]\n",
      "Q1865/D1763-4 is predicted as [-0.15945463]\n",
      "Q2382/D230-7 is predicted as [0.63905]\n",
      "Q1074/D1035-5 is predicted as [0.01490918]\n",
      "Q565/D556-1 is predicted as [-0.28758824]\n",
      "Q2226/D2097-3 is predicted as [-0.1021309]\n",
      "Q2636/D2460-8 is predicted as [0.31205615]\n",
      "Q2766/D1764-14 is predicted as [0.2432862]\n",
      "Q2047/D1933-1 is predicted as [-0.02027203]\n",
      "Q1093/D1052-1 is predicted as [0.02033832]\n",
      "Q2734/D2547-8 is predicted as [0.05999089]\n",
      "Q2443/D2292-3 is predicted as [0.04029859]\n",
      "Q701/D523-4 is predicted as [0.18551044]\n",
      "Q2487/D2329-0 is predicted as [-0.23223343]\n",
      "Q329/D328-4 is predicted as [-0.12860708]\n",
      "Q2509/D2349-12 is predicted as [0.144272]\n",
      "Q2261/D2127-2 is predicted as [0.03681537]\n",
      "Q2637/D2461-3 is predicted as [0.06197046]\n",
      "Q1739/D418-1 is predicted as [-0.11523114]\n",
      "Q858/D832-10 is predicted as [0.26439613]\n"
     ]
    }
   ],
   "source": [
    "# Make predictions on the first batch of test data\n",
    "X_te, y_te = generator_te[0]\n",
    "predictions = cdssm_model.predict([X_te.text_left, X_te.text_right])\n",
    "for id_left, id_right, pred in zip(X_te.id_left, X_te.id_right, predictions):\n",
    "    print(\"{}/{} is predicted as {}\".format(id_left, id_right, pred))"
   ]
  },
  {
   "cell_type": "markdown",
   "metadata": {},
   "source": [
    "#### Model Persistence\n",
    "\n",
    "You can persist your trained model using `model.save()` and `load_model` function:\n",
    "\n",
    "```python\n",
    "from matchzoo import engine\n",
    "# Save the model to dir.\n",
    "cdssm_model.save('/your-model-saved-path')\n",
    "# And load the model from dir.\n",
    "engine.load_model('/your-model-saved-path')\n",
    "```"
   ]
  },
  {
   "cell_type": "markdown",
   "metadata": {},
   "source": [
    "## Reference\n",
    "\n",
    "[Huang et al. 2013] Po-Sen Huang, Xiaodong He, Jianfeng Gao, Li Deng, Alex Acero, and Larry Heck. 2013. Learning deep structured semantic models for web search using clickthrough data. In Proc. CIKM. ACM, 2333–2338.\n",
    "\n",
    "[Shen et al. 2014] Shen Y, He X, Gao J, et al. 2014. A Latent Semantic Model with Convolutional-Pooling Structure for Information Retrieval[J]. In Proc. CIKM. ACM, 101-110."
   ]
  }
 ],
 "metadata": {
  "anaconda-cloud": {},
  "hide_input": false,
  "kernelspec": {
   "display_name": "Python [conda root]",
   "language": "python",
   "name": "conda-root-py"
  },
  "language_info": {
   "codemirror_mode": {
    "name": "ipython",
    "version": 2
   },
   "file_extension": ".py",
   "mimetype": "text/x-python",
   "name": "python",
   "nbconvert_exporter": "python",
   "pygments_lexer": "ipython2",
   "version": "2.7.12"
  },
  "toc": {
   "nav_menu": {},
   "number_sections": true,
   "sideBar": true,
   "skip_h1_title": false,
   "toc_cell": false,
   "toc_position": {},
   "toc_section_display": "block",
   "toc_window_display": false
  },
  "varInspector": {
   "cols": {
    "lenName": 16,
    "lenType": 16,
    "lenVar": 40
   },
   "kernels_config": {
    "python": {
     "delete_cmd_postfix": "",
     "delete_cmd_prefix": "del ",
     "library": "var_list.py",
     "varRefreshCmd": "print(var_dic_list())"
    },
    "r": {
     "delete_cmd_postfix": ") ",
     "delete_cmd_prefix": "rm(",
     "library": "var_list.r",
     "varRefreshCmd": "cat(var_dic_list()) "
    }
   },
   "types_to_exclude": [
    "module",
    "function",
    "builtin_function_or_method",
    "instance",
    "_Feature"
   ],
   "window_display": false
  }
 },
 "nbformat": 4,
 "nbformat_minor": 2
}
